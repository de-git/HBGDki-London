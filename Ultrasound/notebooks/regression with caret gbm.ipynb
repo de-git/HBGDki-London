{
 "cells": [
  {
   "cell_type": "markdown",
   "metadata": {
    "toc": "true"
   },
   "source": [
    "# Table of Contents\n",
    " <p><div class=\"lev1 toc-item\"><a href=\"#reading-and-preparing-data\" data-toc-modified-id=\"reading-and-preparing-data-1\"><span class=\"toc-item-num\">1&nbsp;&nbsp;</span>reading and preparing data</a></div>"
   ]
  },
  {
   "cell_type": "markdown",
   "metadata": {},
   "source": [
    "# reading and preparing data"
   ]
  },
  {
   "cell_type": "code",
   "execution_count": 8,
   "metadata": {
    "collapsed": false,
    "run_control": {
     "frozen": false,
     "read_only": false
    }
   },
   "outputs": [],
   "source": [
    "#library(ggbiplot)\n",
    "library(plyr)\n",
    "library(tidyverse, quiet=T)\n",
    "library(traj)\n",
    "library(caret, quiet=T)"
   ]
  },
  {
   "cell_type": "code",
   "execution_count": 45,
   "metadata": {
    "collapsed": false,
    "run_control": {
     "frozen": false,
     "read_only": false
    }
   },
   "outputs": [
    {
     "name": "stdout",
     "output_type": "stream",
     "text": [
      "Observations: 17,370\n",
      "Variables: 37\n",
      "$ STUDYID       <int> 1, 1, 1, 1, 1, 1, 1, 1, 1, 1, 1, 1, 1, 1, 1, 1, 1, 1,...\n",
      "$ SUBJID        <int> 1002, 1002, 1002, 1003, 1003, 1003, 1003, 1003, 1003,...\n",
      "$ SEXN          <int> 2, 2, 2, 1, 1, 1, 1, 1, 1, 1, 1, 1, 1, 1, 1, 1, 1, 1,...\n",
      "$ SEX           <fctr> Female, Female, Female, Male, Male, Male, Male, Male...\n",
      "$ GAGEBRTH      <int> 276, 276, 276, 280, 280, 280, 280, 280, 280, 280, 280...\n",
      "$ BIRTHWT       <int> 3540, 3540, 3540, 3100, 3100, 3100, 3100, 3100, 3100,...\n",
      "$ BIRTHLEN      <dbl> 50.3, 50.3, 50.3, 50.3, 50.3, 50.3, 50.3, 50.3, 50.3,...\n",
      "$ BIRTHHC       <dbl> NA, NA, NA, NA, NA, NA, NA, NA, NA, NA, NA, NA, NA, N...\n",
      "$ DELIVERY      <fctr> Category 2.0, Category 2.0, Category 2.0, Category 2...\n",
      "$ PARITY        <dbl> 0, 0, 0, 0, 0, 0, 0, 0, 0, 0, 0, 0, 0, 0, 0, 0, 0, 0,...\n",
      "$ GRAVIDA       <int> 1, 1, 1, 1, 1, 1, 1, 1, 1, 1, 1, 1, 1, 1, 1, 1, 1, 1,...\n",
      "$ GAGEDAYS      <int> 255, 277, 669, 223, 224, 263, 266, 281, 321, 463, 645...\n",
      "$ AGEDAYS       <int> -21, 1, 393, -57, -56, -17, -14, 1, 41, 183, 365, 371...\n",
      "$ LENCM         <dbl> NA, 50.3, 79.9, NA, NA, NA, NA, 50.3, 57.3, 67.3, 74....\n",
      "$ WTKG          <dbl> NA, 3.54, 10.74, NA, NA, NA, NA, 3.10, 5.44, 8.04, 8....\n",
      "$ BMI           <dbl> NA, 13.99, 16.82, NA, NA, NA, NA, 12.25, 16.57, 17.75...\n",
      "$ HCIRCM        <dbl> 33.4, NA, 46.9, 29.2, 29.2, 31.0, 31.0, NA, 36.4, 42....\n",
      "$ HAZ           <dbl> NA, 0.53, 1.82, NA, NA, NA, NA, 0.13, 0.60, -0.16, -0...\n",
      "$ WAZ           <dbl> NA, 0.71, 1.28, NA, NA, NA, NA, -0.46, 0.83, 0.12, -0...\n",
      "$ WHZ           <dbl> NA, 0.40, 0.71, NA, NA, NA, NA, -1.02, 0.50, 0.36, -0...\n",
      "$ BAZ           <dbl> NA, 0.53, 0.40, NA, NA, NA, NA, -0.94, 0.71, 0.28, -0...\n",
      "$ HCAZ          <dbl> 1.1447791, NA, 1.2800000, -0.1355403, -0.2463110, -1....\n",
      "$ ABCIRCM       <dbl> 32.5, NA, NA, 25.6, 25.6, 30.2, 30.2, NA, NA, NA, NA,...\n",
      "$ BPDCM         <dbl> 9.1, NA, NA, 8.2, 8.2, 9.1, 9.1, NA, NA, NA, NA, NA, ...\n",
      "$ FEMURCM       <dbl> 7.3, NA, NA, 6.3, 6.3, 7.2, 7.2, NA, NA, NA, NA, NA, ...\n",
      "$ ACAZ          <dbl> 0.4630353, NA, NA, -1.2237732, -1.3196983, -1.3572853...\n",
      "$ BPDAZ         <dbl> -0.2376447, NA, NA, -0.4535162, -0.5539868, -0.607139...\n",
      "$ FLAZ          <dbl> 2.1426457, NA, NA, 1.6165714, 1.4955694, 1.1068995, 0...\n",
      "$ BHC_Z         <dbl> NA, NA, NA, NA, NA, NA, NA, NA, NA, NA, NA, NA, NA, N...\n",
      "$ BLEN_Z        <dbl> 0.89160009, 0.89160009, 0.89160009, 0.23529796, 0.235...\n",
      "$ BWT_Z         <dbl> 0.8604704, 0.8604704, 0.8604704, -0.7255638, -0.72556...\n",
      "$ BWT_40        <dbl> 3.614882, 3.614882, 3.614882, 3.100000, 3.100000, 3.1...\n",
      "$ BLEN_40       <dbl> 50.61003, 50.61003, 50.61003, 50.30000, 50.30000, 50....\n",
      "$ BHC_40        <dbl> NA, NA, NA, NA, NA, NA, NA, NA, NA, NA, NA, NA, NA, N...\n",
      "$ LOG10.FWT.GM  <dbl> 3.486183, NA, NA, 3.233630, 3.233630, 3.419602, 3.419...\n",
      "$ WTKG.estimate <dbl> 3.0632504, 3.5400000, 10.7400000, 1.7124993, 1.712499...\n",
      "$ Study         <chr> \"Study 1\", \"Study 1\", \"Study 1\", \"Study 1\", \"Study 1\"...\n"
     ]
    },
    {
     "data": {
      "text/html": [
       "<table>\n",
       "<thead><tr><th scope=col>GAGEDAYS</th><th scope=col>SUBJID</th><th scope=col>ABCIRCM</th><th scope=col>HCIRCM</th><th scope=col>BPDCM</th><th scope=col>FEMURCM</th><th scope=col>PARITY</th><th scope=col>STUDYID</th><th scope=col>SEX</th><th scope=col>BWT_40</th><th scope=col>measurementId</th><th scope=col>tot_measurements</th></tr></thead>\n",
       "<tbody>\n",
       "\t<tr><td>255     </td><td>1002    </td><td>32.5    </td><td>33.4    </td><td>9.1     </td><td>7.3     </td><td>0       </td><td>1       </td><td>Female  </td><td>3.614882</td><td>1       </td><td>7827    </td></tr>\n",
       "\t<tr><td>223     </td><td>1003    </td><td>25.6    </td><td>29.2    </td><td>8.2     </td><td>6.3     </td><td>0       </td><td>1       </td><td>Male    </td><td>3.100000</td><td>2       </td><td>7827    </td></tr>\n",
       "\t<tr><td>224     </td><td>1003    </td><td>25.6    </td><td>29.2    </td><td>8.2     </td><td>6.3     </td><td>0       </td><td>1       </td><td>Male    </td><td>3.100000</td><td>3       </td><td>7827    </td></tr>\n",
       "\t<tr><td>263     </td><td>1003    </td><td>30.2    </td><td>31.0    </td><td>9.1     </td><td>7.2     </td><td>0       </td><td>1       </td><td>Male    </td><td>3.100000</td><td>4       </td><td>7827    </td></tr>\n",
       "\t<tr><td>266     </td><td>1003    </td><td>30.2    </td><td>31.0    </td><td>9.1     </td><td>7.2     </td><td>0       </td><td>1       </td><td>Male    </td><td>3.100000</td><td>5       </td><td>7827    </td></tr>\n",
       "\t<tr><td>169     </td><td>1005    </td><td>18.7    </td><td>21.9    </td><td>5.9     </td><td>4.1     </td><td>0       </td><td>1       </td><td>Male    </td><td>2.988224</td><td>6       </td><td>7827    </td></tr>\n",
       "</tbody>\n",
       "</table>\n"
      ],
      "text/latex": [
       "\\begin{tabular}{r|llllllllllll}\n",
       " GAGEDAYS & SUBJID & ABCIRCM & HCIRCM & BPDCM & FEMURCM & PARITY & STUDYID & SEX & BWT\\_40 & measurementId & tot\\_measurements\\\\\n",
       "\\hline\n",
       "\t 255      & 1002     & 32.5     & 33.4     & 9.1      & 7.3      & 0        & 1        & Female   & 3.614882 & 1        & 7827    \\\\\n",
       "\t 223      & 1003     & 25.6     & 29.2     & 8.2      & 6.3      & 0        & 1        & Male     & 3.100000 & 2        & 7827    \\\\\n",
       "\t 224      & 1003     & 25.6     & 29.2     & 8.2      & 6.3      & 0        & 1        & Male     & 3.100000 & 3        & 7827    \\\\\n",
       "\t 263      & 1003     & 30.2     & 31.0     & 9.1      & 7.2      & 0        & 1        & Male     & 3.100000 & 4        & 7827    \\\\\n",
       "\t 266      & 1003     & 30.2     & 31.0     & 9.1      & 7.2      & 0        & 1        & Male     & 3.100000 & 5        & 7827    \\\\\n",
       "\t 169      & 1005     & 18.7     & 21.9     & 5.9      & 4.1      & 0        & 1        & Male     & 2.988224 & 6        & 7827    \\\\\n",
       "\\end{tabular}\n"
      ],
      "text/plain": [
       "  GAGEDAYS SUBJID ABCIRCM HCIRCM BPDCM FEMURCM PARITY STUDYID SEX    BWT_40  \n",
       "1 255      1002   32.5    33.4   9.1   7.3     0      1       Female 3.614882\n",
       "2 223      1003   25.6    29.2   8.2   6.3     0      1       Male   3.100000\n",
       "3 224      1003   25.6    29.2   8.2   6.3     0      1       Male   3.100000\n",
       "4 263      1003   30.2    31.0   9.1   7.2     0      1       Male   3.100000\n",
       "5 266      1003   30.2    31.0   9.1   7.2     0      1       Male   3.100000\n",
       "6 169      1005   18.7    21.9   5.9   4.1     0      1       Male   2.988224\n",
       "  measurementId tot_measurements\n",
       "1 1             7827            \n",
       "2 2             7827            \n",
       "3 3             7827            \n",
       "4 4             7827            \n",
       "5 5             7827            \n",
       "6 6             7827            "
      ]
     },
     "metadata": {},
     "output_type": "display_data"
    }
   ],
   "source": [
    "dat0 <- read.csv(\"../training_ultrasound.csv\")\n",
    "\n",
    "# Use Hadlok equation to estimate fetal weight from the 4 key ultrasound measurements\n",
    "dat.raw = dat0 %>%\n",
    "    mutate(\n",
    "        LOG10.FWT.GM = 1.3596 + 0.0064*HCIRCM + 0.0424*ABCIRCM + 0.174*FEMURCM + 0.00061*BPDCM*ABCIRCM - 0.00386*ABCIRCM*FEMURCM,\n",
    "        WTKG.estimate = ifelse(AGEDAYS<1 ,(10^LOG10.FWT.GM)/1000 ,WTKG) ,\n",
    "        Study = paste('Study', STUDYID),\n",
    "        PARITY = ifelse(STUDYID==1, PARITY-1, PARITY)\n",
    "        )\n",
    "dat.raw %>% glimpse\n",
    "# clean data, remove samples with only one observation and after-birth\n",
    "dat = dat.raw %>% group_by(SUBJID) %>%\n",
    "    mutate(tot.measurements = n()) %>%\n",
    "    filter(tot.measurements >1) %>%\n",
    "    filter(AGEDAYS<0)\n",
    "\n",
    "\n",
    "dat.train.raw = dat %>% ungroup %>%\n",
    "    select(GAGEDAYS, SUBJID, ABCIRCM, HCIRCM, BPDCM, FEMURCM, PARITY, STUDYID, SEX, BWT_40) %>%\n",
    "#    filter(!is.na(ABCIRCM)) %>% group_by(SUBJID) %>%\n",
    "    filter(complete.cases(.)) %>%\n",
    "    mutate(measurementId = row_number(), tot_measurements=n()) %>%\n",
    "#    filter(measurementId < 7) %>%\n",
    "#    filter(tot_measurements >1) %>% \n",
    "    ungroup\n",
    "#     filter(GAGEDAYS > 150, GAGEDAYS <210)\n",
    "\n",
    "dat.train = dat.train.raw\n",
    "\n",
    "dat.train.raw %>% head"
   ]
  },
  {
   "cell_type": "markdown",
   "metadata": {},
   "source": [
    "# simple regression using GAGEDAYS as covariate"
   ]
  },
  {
   "cell_type": "code",
   "execution_count": 57,
   "metadata": {
    "collapsed": false
   },
   "outputs": [],
   "source": [
    "ctrl <- trainControl( method=\"boot\", number=10, repeats=3)\n",
    "\n",
    "dat.gbm = train(BWT_40~., \n",
    "                data=dat.train.raw %>%select(-measurementId, -tot_measurements, -SUBJID), \n",
    "                method=\"gbm\", \n",
    "                preProcess=c(\"center\", \"scale\", \"knnImpute\"), \n",
    "                verbose=F)\n"
   ]
  },
  {
   "cell_type": "code",
   "execution_count": 80,
   "metadata": {
    "collapsed": false
   },
   "outputs": [
    {
     "data": {
      "text/html": [
       "<table>\n",
       "<thead><tr><th></th><th scope=col>var</th><th scope=col>rel.inf</th></tr></thead>\n",
       "<tbody>\n",
       "\t<tr><th scope=row>ABCIRCM</th><td>ABCIRCM   </td><td>46.5523855</td></tr>\n",
       "\t<tr><th scope=row>GAGEDAYS</th><td>GAGEDAYS  </td><td>31.2329573</td></tr>\n",
       "\t<tr><th scope=row>FEMURCM</th><td>FEMURCM   </td><td> 6.8411134</td></tr>\n",
       "\t<tr><th scope=row>BPDCM</th><td>BPDCM     </td><td> 5.6551662</td></tr>\n",
       "\t<tr><th scope=row>SEXMale</th><td>SEXMale   </td><td> 5.4575569</td></tr>\n",
       "\t<tr><th scope=row>HCIRCM</th><td>HCIRCM    </td><td> 3.2290470</td></tr>\n",
       "\t<tr><th scope=row>PARITY</th><td>PARITY    </td><td> 0.8980230</td></tr>\n",
       "\t<tr><th scope=row>STUDYID</th><td>STUDYID   </td><td> 0.1337506</td></tr>\n",
       "</tbody>\n",
       "</table>\n"
      ],
      "text/latex": [
       "\\begin{tabular}{r|ll}\n",
       "  & var & rel.inf\\\\\n",
       "\\hline\n",
       "\tABCIRCM & ABCIRCM    & 46.5523855\\\\\n",
       "\tGAGEDAYS & GAGEDAYS   & 31.2329573\\\\\n",
       "\tFEMURCM & FEMURCM    &  6.8411134\\\\\n",
       "\tBPDCM & BPDCM      &  5.6551662\\\\\n",
       "\tSEXMale & SEXMale    &  5.4575569\\\\\n",
       "\tHCIRCM & HCIRCM     &  3.2290470\\\\\n",
       "\tPARITY & PARITY     &  0.8980230\\\\\n",
       "\tSTUDYID & STUDYID    &  0.1337506\\\\\n",
       "\\end{tabular}\n"
      ],
      "text/plain": [
       "         var      rel.inf   \n",
       "ABCIRCM  ABCIRCM  46.5523855\n",
       "GAGEDAYS GAGEDAYS 31.2329573\n",
       "FEMURCM  FEMURCM   6.8411134\n",
       "BPDCM    BPDCM     5.6551662\n",
       "SEXMale  SEXMale   5.4575569\n",
       "HCIRCM   HCIRCM    3.2290470\n",
       "PARITY   PARITY    0.8980230\n",
       "STUDYID  STUDYID   0.1337506"
      ]
     },
     "metadata": {},
     "output_type": "display_data"
    },
    {
     "data": {
      "text/plain": [
       "A gradient boosted model with gaussian loss function.\n",
       "150 iterations were performed.\n",
       "There were 8 predictors of which 8 had non-zero influence."
      ]
     },
     "metadata": {},
     "output_type": "display_data"
    },
    {
     "data": {
      "image/png": "[encoded data removed]",
      "text/plain": [
       "plot without title"
      ]
     },
     "metadata": {},
     "output_type": "display_data"
    }
   ],
   "source": [
    "#dat.gbm %>% summary\n",
    "dat.gbm$finalModel %>% summary\n",
    "\n",
    "dat.gbm$finalModel "
   ]
  },
  {
   "cell_type": "code",
   "execution_count": 82,
   "metadata": {
    "collapsed": false
   },
   "outputs": [
    {
     "data": {
      "text/html": [
       "0.294359139184295"
      ],
      "text/latex": [
       "0.294359139184295"
      ],
      "text/markdown": [
       "0.294359139184295"
      ],
      "text/plain": [
       "[1] 0.2943591"
      ]
     },
     "metadata": {},
     "output_type": "display_data"
    }
   ],
   "source": [
    "\n",
    "mse <- mean(residuals(dat.gbm)^2)\n",
    "rmse <- sqrt(mse)\n",
    "rmse"
   ]
  },
  {
   "cell_type": "code",
   "execution_count": 83,
   "metadata": {
    "collapsed": false
   },
   "outputs": [
    {
     "ename": "ERROR",
     "evalue": "Error in predict.train(dat.gbm, dat.training): object 'dat.training' not found\n",
     "output_type": "error",
     "traceback": [
      "Error in predict.train(dat.gbm, dat.training): object 'dat.training' not found\nTraceback:\n",
      "1. R2(predict(dat.gbm, dat.training))",
      "2. complete.cases(pred)",
      "3. predict(dat.gbm, dat.training)",
      "4. predict.train(dat.gbm, dat.training)"
     ]
    }
   ],
   "source": [
    "R2(predict(dat.gbm, dat.training))\n",
    "plot(dat.gbm)"
   ]
  },
  {
   "cell_type": "markdown",
   "metadata": {},
   "source": [
    "# Random Forests"
   ]
  },
  {
   "cell_type": "code",
   "execution_count": 68,
   "metadata": {
    "collapsed": false
   },
   "outputs": [
    {
     "name": "stderr",
     "output_type": "stream",
     "text": [
      "Loading required package: fastAdaboost\n"
     ]
    },
    {
     "ename": "ERROR",
     "evalue": "Error in train.default(x, y, weights = w, ...): wrong model type for regression\n",
     "output_type": "error",
     "traceback": [
      "Error in train.default(x, y, weights = w, ...): wrong model type for regression\nTraceback:\n",
      "1. train(BWT_40 ~ ., data = dat.train.raw %>% select(-measurementId, \n .     -tot_measurements, -SUBJID), method = \"adaboost\", preProcess = c(\"center\", \n .     \"scale\", \"knnImpute\"), verbose = F)",
      "2. train.formula(BWT_40 ~ ., data = dat.train.raw %>% select(-measurementId, \n .     -tot_measurements, -SUBJID), method = \"adaboost\", preProcess = c(\"center\", \n .     \"scale\", \"knnImpute\"), verbose = F)",
      "3. train(x, y, weights = w, ...)",
      "4. train.default(x, y, weights = w, ...)",
      "5. stop(paste(\"wrong model type for\", tolower(modelType)))"
     ]
    }
   ],
   "source": [
    "ctrl <- trainControl( method=\"boot\", number=10, repeats=3)\n",
    "\n",
    "dat.gbm = train(BWT_40~., \n",
    "                data=dat.train.raw %>%select(-measurementId, -tot_measurements, -SUBJID), \n",
    "                method=\"adaboost\", \n",
    "                preProcess=c(\"center\", \"scale\", \"knnImpute\"), \n",
    "                verbose=F)"
   ]
  },
  {
   "cell_type": "code",
   "execution_count": 54,
   "metadata": {
    "collapsed": false
   },
   "outputs": [
    {
     "data": {
      "text/plain": [
       "gbm variable importance\n",
       "\n",
       "         Overall\n",
       "ABCIRCM  100.000\n",
       "GAGEDAYS  73.519\n",
       "SEXMale   13.279\n",
       "FEMURCM   13.051\n",
       "BPDCM     11.179\n",
       "HCIRCM     7.329\n",
       "PARITY     2.643\n",
       "STUDYID    0.000"
      ]
     },
     "metadata": {},
     "output_type": "display_data"
    },
    {
     "data": {
      "text/plain": [
       "Stochastic Gradient Boosting \n",
       "\n",
       "7827 samples\n",
       "   8 predictors\n",
       "\n",
       "Pre-processing: centered (8), scaled (8), nearest neighbor imputation (8) \n",
       "Resampling: Bootstrapped (25 reps) \n",
       "Summary of sample sizes: 7827, 7827, 7827, 7827, 7827, 7827, ... \n",
       "Resampling results across tuning parameters:\n",
       "\n",
       "  interaction.depth  n.trees  RMSE       Rsquared \n",
       "  1                   50      0.3397188  0.1270177\n",
       "  1                  100      0.3329582  0.1631067\n",
       "  1                  150      0.3282487  0.1863651\n",
       "  2                   50      0.3256746  0.2028317\n",
       "  2                  100      0.3146452  0.2497748\n",
       "  2                  150      0.3085135  0.2744417\n",
       "  3                   50      0.3183449  0.2364240\n",
       "  3                  100      0.3068683  0.2823535\n",
       "  3                  150      0.3021581  0.2995447\n",
       "\n",
       "Tuning parameter 'shrinkage' was held constant at a value of 0.1\n",
       "\n",
       "Tuning parameter 'n.minobsinnode' was held constant at a value of 10\n",
       "RMSE was used to select the optimal model using  the smallest value.\n",
       "The final values used for the model were n.trees = 150, interaction.depth =\n",
       " 3, shrinkage = 0.1 and n.minobsinnode = 10. "
      ]
     },
     "metadata": {},
     "output_type": "display_data"
    },
    {
     "data": {},
     "metadata": {},
     "output_type": "display_data"
    },
    {
     "data": {
      "image/png": "[encoded data removed]",
      "text/plain": [
       "plot without title"
      ]
     },
     "metadata": {},
     "output_type": "display_data"
    }
   ],
   "source": [
    "varImp(dat.gbm)\n",
    "dat.gbm\n",
    "plot(dat.gbm)"
   ]
  },
  {
   "cell_type": "markdown",
   "metadata": {},
   "source": [
    "# Model for first weeks (15 to 25)\n"
   ]
  },
  {
   "cell_type": "code",
   "execution_count": null,
   "metadata": {
    "collapsed": false
   },
   "outputs": [],
   "source": [
    "ctrl <- trainControl(method=\"repeatedcv\", number=10, repeats=3)\n",
    "\n",
    "dat.gbm.fw = train(BWT_40~., \n",
    "                data=dat.train.raw %>% select(-measurementId, -tot_measurements, -SUBJID) %>%\n",
    "                    filter(GAGEDAYS> 15*7, GAGEDAYS<25*7), \n",
    "                method=\"gbm\", \n",
    "                preProcess=c(\"center\", \"scale\", \"knnImpute\"), \n",
    "                verbose=F)"
   ]
  },
  {
   "cell_type": "code",
   "execution_count": 86,
   "metadata": {
    "collapsed": false
   },
   "outputs": [
    {
     "data": {
      "text/html": [
       "0.327110901995726"
      ],
      "text/latex": [
       "0.327110901995726"
      ],
      "text/markdown": [
       "0.327110901995726"
      ],
      "text/plain": [
       "[1] 0.3271109"
      ]
     },
     "metadata": {},
     "output_type": "display_data"
    }
   ],
   "source": [
    "\n",
    "mse <- mean(residuals(dat.gbm.fw)^2)\n",
    "rmse <- sqrt(mse)\n",
    "rmse"
   ]
  },
  {
   "cell_type": "code",
   "execution_count": 87,
   "metadata": {
    "collapsed": false
   },
   "outputs": [
    {
     "ename": "ERROR",
     "evalue": "Error in varImp(dat.gbm.fw): object 'dat.gbm.fw' not found\n",
     "output_type": "error",
     "traceback": [
      "Error in varImp(dat.gbm.fw): object 'dat.gbm.fw' not found\nTraceback:\n",
      "1. varImp(dat.gbm.fw)"
     ]
    }
   ],
   "source": [
    "varImp(dat.gbm.fw)\n",
    "dat.gbm.fw\n",
    "plot(dat.gbm.fw)"
   ]
  },
  {
   "cell_type": "markdown",
   "metadata": {},
   "source": [
    "# regression with GAGEDAYS as weights\n"
   ]
  },
  {
   "cell_type": "code",
   "execution_count": 79,
   "metadata": {
    "collapsed": true
   },
   "outputs": [],
   "source": [
    "\n",
    "dat.gbm = train(BWT_40~., \n",
    "                data=dat.train.raw %>%select(-measurementId, -tot_measurements, -SUBJID), \n",
    "                method=\"gbm\",\n",
    "                weights=GAGEDAYS,\n",
    "                preProcess=c(\"center\", \"scale\", \"knnImpute\"), \n",
    "                verbose=F)"
   ]
  }
 ],
 "metadata": {
  "hide_input": false,
  "kernelspec": {
   "display_name": "R",
   "language": "R",
   "name": "ir"
  },
  "language_info": {
   "codemirror_mode": "r",
   "file_extension": ".r",
   "mimetype": "text/x-r-source",
   "name": "R",
   "pygments_lexer": "r",
   "version": "3.3.1"
  },
  "nav_menu": {},
  "toc": {
   "navigate_menu": true,
   "number_sections": true,
   "sideBar": true,
   "threshold": 6,
   "toc_cell": true,
   "toc_section_display": "block",
   "toc_window_display": false
  }
 },
 "nbformat": 4,
 "nbformat_minor": 1
}
